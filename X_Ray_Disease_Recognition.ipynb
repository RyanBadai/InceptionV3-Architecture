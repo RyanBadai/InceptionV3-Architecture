{
  "nbformat": 4,
  "nbformat_minor": 0,
  "metadata": {
    "colab": {
      "provenance": [],
      "authorship_tag": "ABX9TyPcncYl2W8eNFXVPezaozpw",
      "include_colab_link": true
    },
    "kernelspec": {
      "name": "python3",
      "display_name": "Python 3"
    },
    "language_info": {
      "name": "python"
    }
  },
  "cells": [
    {
      "cell_type": "markdown",
      "metadata": {
        "id": "view-in-github",
        "colab_type": "text"
      },
      "source": [
        "<a href=\"https://colab.research.google.com/github/RyanBadai/InceptionV3-Architecture/blob/main/X_Ray_Disease_Recognition.ipynb\" target=\"_parent\"><img src=\"https://colab.research.google.com/assets/colab-badge.svg\" alt=\"Open In Colab\"/></a>"
      ]
    },
    {
      "cell_type": "code",
      "execution_count": null,
      "metadata": {
        "id": "qlgGGs_McmtZ"
      },
      "outputs": [],
      "source": [
        "import numpy as np\n",
        "import pandas as pd\n",
        "import tensorflow as tf\n",
        "from tensorflow import keras\n",
        "from tensorflow.keras.layers import Dense, Activation, Dropout, Conv2D, MaxPooling2D, BatchNormalization, Flatten, Input\n",
        "from tensorflow.keras.optimizers import Adam\n",
        "from tensorflow.keras.preprocessing.image import ImageDataGenerator\n",
        "from tensorflow.keras.applications.inception_v3 import InceptionV3\n",
        "import os\n",
        "from google.colab import drive\n",
        "import zipfile\n",
        "import matplotlib.pyplot as plt"
      ]
    },
    {
      "cell_type": "code",
      "source": [
        "drive.mount('/content/drive/')"
      ],
      "metadata": {
        "colab": {
          "base_uri": "https://localhost:8080/"
        },
        "id": "WB-ipqKhdYcA",
        "outputId": "8d1003f2-b575-400a-df65-97b93f6c72e8"
      },
      "execution_count": null,
      "outputs": [
        {
          "output_type": "stream",
          "name": "stdout",
          "text": [
            "Mounted at /content/drive/\n"
          ]
        }
      ]
    },
    {
      "cell_type": "code",
      "source": [
        "with zipfile.ZipFile('/content/drive/MyDrive/Python Project/Pneumonia_Dataset.zip', 'r') as zip_ref:\n",
        "  zip_ref.extractall(\"/content\")"
      ],
      "metadata": {
        "id": "TsztzVYLfCk2"
      },
      "execution_count": null,
      "outputs": []
    },
    {
      "cell_type": "code",
      "source": [
        "sdir = r'/content/Pneumonia_Dataset'\n",
        "\n",
        "filepaths = []\n",
        "labels = []\n",
        "classlist = os.listdir(sdir)\n",
        "\n",
        "for klass in classlist:\n",
        "  classpath = os.path.join(sdir, klass)\n",
        "  if os.path.isdir(classpath):\n",
        "    flist = os.listdir(classpath)\n",
        "    for f in flist:\n",
        "      fpath = os.path.join(classpath, f)\n",
        "      filepaths.append(fpath)\n",
        "      labels.append(klass)\n",
        "\n",
        "Fseries = pd.Series(filepaths, name='filepaths')\n",
        "Lseries = pd.Series(labels, name='labels')\n",
        "df = pd.concat([Fseries, Lseries], axis=1)\n",
        "\n",
        "print(classlist)\n",
        "print(df['labels'].value_counts())"
      ],
      "metadata": {
        "colab": {
          "base_uri": "https://localhost:8080/"
        },
        "id": "_70yeCXMf5WX",
        "outputId": "c474874d-cb80-4182-81cd-602deacaa15a"
      },
      "execution_count": null,
      "outputs": [
        {
          "output_type": "stream",
          "name": "stdout",
          "text": [
            "['PNEUMONIA', 'NORMAL']\n",
            "PNEUMONIA    3883\n",
            "NORMAL       1349\n",
            "Name: labels, dtype: int64\n"
          ]
        }
      ]
    },
    {
      "cell_type": "code",
      "source": [
        "#DATA AUGMENTATION\n",
        "train_datagen = ImageDataGenerator(rescale = 1./255.,\n",
        "                                   rotation_range = 40,\n",
        "                                   shear_range = 0.2,\n",
        "                                   zoom_range = 0.2,\n",
        "                                   horizontal_flip = True)\n",
        "\n",
        "test_datagen = ImageDataGenerator(rescale = 1./255.,\n",
        "                                  validation_split = 0.1)"
      ],
      "metadata": {
        "id": "o_DidxaUqHAj"
      },
      "execution_count": null,
      "outputs": []
    },
    {
      "cell_type": "code",
      "source": [
        "#TRAINING AND VALIDATION GENERATORS\n",
        "train_generator = train_datagen.flow_from_directory(sdir,\n",
        "                                                    target_size = (224,224),\n",
        "                                                    batch_size = 64,\n",
        "                                                    class_mode = 'binary',\n",
        "                                                    subset='training')\n",
        "\n",
        "validation_generator = test_datagen.flow_from_directory(sdir,\n",
        "                                                  target_size = (224,224),\n",
        "                                                  batch_size = 64,\n",
        "                                                  class_mode = 'binary',\n",
        "                                                  subset='validation')"
      ],
      "metadata": {
        "id": "oCqdh0x_103u",
        "colab": {
          "base_uri": "https://localhost:8080/"
        },
        "outputId": "a30a18c8-3b95-40bf-e405-ed35ec8bf22d"
      },
      "execution_count": null,
      "outputs": [
        {
          "output_type": "stream",
          "name": "stdout",
          "text": [
            "Found 5232 images belonging to 2 classes.\n",
            "Found 522 images belonging to 2 classes.\n"
          ]
        }
      ]
    },
    {
      "cell_type": "code",
      "source": [
        "base_model = InceptionV3(input_shape = (224, 224, 3),\n",
        "                         include_top = False,\n",
        "                         weights = 'imagenet')"
      ],
      "metadata": {
        "id": "mGATVOKA11Z0"
      },
      "execution_count": null,
      "outputs": []
    },
    {
      "cell_type": "code",
      "source": [
        "for layer in base_model.layers:\n",
        "  layer.trainable = False\n",
        "\n",
        "model = tf.keras.models.Sequential([\n",
        "    base_model,\n",
        "    tf.keras.layers.GlobalAveragePooling2D(),\n",
        "    tf.keras.layers.Dropout(0.5),\n",
        "    tf.keras.layers.Dense(1, activation = 'sigmoid')\n",
        "])\n",
        "\n",
        "model.summary()"
      ],
      "metadata": {
        "colab": {
          "base_uri": "https://localhost:8080/"
        },
        "id": "hbmhxfJSHndn",
        "outputId": "4e4fe132-6e90-4392-8e17-a6b58ce5290a"
      },
      "execution_count": null,
      "outputs": [
        {
          "output_type": "stream",
          "name": "stdout",
          "text": [
            "Model: \"sequential_5\"\n",
            "_________________________________________________________________\n",
            " Layer (type)                Output Shape              Param #   \n",
            "=================================================================\n",
            " inception_v3 (Functional)   (None, 5, 5, 2048)        21802784  \n",
            "                                                                 \n",
            " global_average_pooling2d_2   (None, 2048)             0         \n",
            " (GlobalAveragePooling2D)                                        \n",
            "                                                                 \n",
            " dropout_4 (Dropout)         (None, 2048)              0         \n",
            "                                                                 \n",
            " dense_9 (Dense)             (None, 1)                 2049      \n",
            "                                                                 \n",
            "=================================================================\n",
            "Total params: 21,804,833\n",
            "Trainable params: 2,049\n",
            "Non-trainable params: 21,802,784\n",
            "_________________________________________________________________\n"
          ]
        }
      ]
    },
    {
      "cell_type": "code",
      "source": [
        "model.compile(loss = 'binary_crossentropy',\n",
        "              optimizer = tf.keras.optimizers.Adam(),\n",
        "              metrics = ['accuracy'])\n",
        "\n",
        "history = model.fit(train_generator,\n",
        "                    epochs = 5,\n",
        "                    validation_data = validation_generator)"
      ],
      "metadata": {
        "colab": {
          "base_uri": "https://localhost:8080/"
        },
        "id": "ZGD3IzDfosEN",
        "outputId": "f36e369f-bfbd-4466-aa5b-3a4ac6390bf7"
      },
      "execution_count": null,
      "outputs": [
        {
          "output_type": "stream",
          "name": "stdout",
          "text": [
            "Epoch 1/5\n",
            "82/82 [==============================] - 783s 9s/step - loss: 0.3572 - accuracy: 0.8322 - val_loss: 0.2314 - val_accuracy: 0.9215\n",
            "Epoch 2/5\n",
            "82/82 [==============================] - 772s 9s/step - loss: 0.2484 - accuracy: 0.8926 - val_loss: 0.2038 - val_accuracy: 0.9234\n",
            "Epoch 3/5\n",
            "82/82 [==============================] - 772s 9s/step - loss: 0.2352 - accuracy: 0.9018 - val_loss: 0.1824 - val_accuracy: 0.9387\n",
            "Epoch 4/5\n",
            "82/82 [==============================] - 769s 9s/step - loss: 0.2141 - accuracy: 0.9130 - val_loss: 0.1744 - val_accuracy: 0.9310\n",
            "Epoch 5/5\n",
            "82/82 [==============================] - 746s 9s/step - loss: 0.2111 - accuracy: 0.9148 - val_loss: 0.1738 - val_accuracy: 0.9368\n"
          ]
        }
      ]
    },
    {
      "cell_type": "code",
      "source": [
        "acc = history.history['accuracy']\n",
        "val_acc = history.history['val_accuracy']\n",
        "loss = history.history['loss']\n",
        "val_loss = history.history['val_loss']\n",
        "\n",
        "epochs = range(len(acc))\n",
        "\n",
        "plt.plot(epochs, acc, 'r', label='Training accuracy')\n",
        "plt.plot(epochs, val_acc, 'b', label='Validation accuracy')\n",
        "plt.title('Training and validation accuracy')\n",
        "plt.legend(loc=0)\n",
        "plt.figure()\n",
        "\n",
        "plt.show()"
      ],
      "metadata": {
        "colab": {
          "base_uri": "https://localhost:8080/",
          "height": 469
        },
        "id": "4FzT2ABpR6UR",
        "outputId": "2a53f1ca-58e5-4816-e876-64e7f3302ea8"
      },
      "execution_count": null,
      "outputs": [
        {
          "output_type": "display_data",
          "data": {
            "text/plain": [
              "<Figure size 640x480 with 1 Axes>"
            ],
            "image/png": "[encoded data removed]"
          },
          "metadata": {}
        },
        {
          "output_type": "display_data",
          "data": {
            "text/plain": [
              "<Figure size 640x480 with 0 Axes>"
            ]
          },
          "metadata": {}
        }
      ]
    },
    {
      "cell_type": "code",
      "source": [
        "loss, accuracy = model.evaluate(validation_generator, verbose=0)\n",
        "print(f\"The Model Loss is {loss:.2f} and The Accuracy is {100*np.round(accuracy, 4)}%\")"
      ],
      "metadata": {
        "colab": {
          "base_uri": "https://localhost:8080/"
        },
        "id": "OcE7rEdTpEKU",
        "outputId": "cbc5279b-77ae-4a89-e145-ad2b7cbffe2b"
      },
      "execution_count": null,
      "outputs": [
        {
          "output_type": "stream",
          "name": "stdout",
          "text": [
            "The Model Loss is 0.17 and The Accuracy is 93.67999999999999%\n"
          ]
        }
      ]
    },
    {
      "cell_type": "code",
      "source": [
        "pneumonia_recognition = '/content/drive/MyDrive/Python Project/model-pneumonia.h5'\n",
        "\n",
        "model.save(pneumonia_recognition, save_format=\"h5\")"
      ],
      "metadata": {
        "id": "49aTUbONptNr"
      },
      "execution_count": null,
      "outputs": []
    },
    {
      "cell_type": "code",
      "source": [],
      "metadata": {
        "id": "1y9r1ZwsqGIy"
      },
      "execution_count": null,
      "outputs": []
    }
  ]
}